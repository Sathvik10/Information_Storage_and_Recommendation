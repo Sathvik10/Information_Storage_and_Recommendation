{
  "cells": [
    {
      "cell_type": "markdown",
      "metadata": {
        "id": "9CKllFl-N-Jk"
      },
      "source": [
        "# Dataset: Genius Lyrics Dataset\n",
        "\n",
        "We are providing you with a small collection of the lyrics to 1000 songs collected from Genius (https://genius.com/). The full data was originally collected by Austin Benson at Cornell (https://www.cs.cornell.edu/~arb/data/genius-expertise/). For this homework, you can use just the small set we provide: **lyrics_1000.jl**. You should treat each song as a unique document to be indexed by your system. You can download the data from Canvas to your local filesystem. We're going to use these lyrics as the basis of a Lyrical Search Engine!"
      ]
    },
    {
      "cell_type": "markdown",
      "metadata": {
        "id": "DaiOjFANN-Jo"
      },
      "source": [
        "# Part 1: Read and Parse the Lyrics Data (40 points)"
      ]
    },
    {
      "cell_type": "markdown",
      "metadata": {
        "id": "VoiNbqQDrVQ2"
      },
      "source": [
        "Recall how we handled file input in Homework 0? Well, here, our goal is to read the lyrics so that we can begin to tokenize them later. For this step, you should read the dataset and print the lyrics. Note that our dataset is in JSON lines format, meaning that each line break separates an entry in JSON format. A document looks like:\n",
        "\n",
        "{'songs': 'Linkin-park-in-the-end-lyrics', 'lyrics': '\\n\\n[Verse 1: Mike Shinoda & Chester Bennington]\\nIt starts...'}\n",
        "\n",
        "For this homework, you should treat the lyrics as a document and the songs as the document ID.\n",
        "\n"
      ]
    },
    {
      "cell_type": "markdown",
      "metadata": {
        "id": "m0sMQsv-mg1l"
      },
      "source": [
        "## Print the first two documents (10 points)\n",
        "\n",
        "Your output should look like this:\n",
        "\n",
        "DocumentID Document\n",
        "\n",
        "Linkin-park-in-the-end-lyrics \\n\\n[Verse 1: Mike Shinoda & Chester Bennington]\\nIt starts...\n",
        "\n",
        "...\n"
      ]
    },
    {
      "cell_type": "code",
      "execution_count": 2,
      "metadata": {
        "colab": {
          "base_uri": "https://localhost:8080/"
        },
        "id": "IfHGvybCysQK",
        "outputId": "5a2d4dfe-9b7e-456e-ac63-65b82eb2b4ab"
      },
      "outputs": [
        {
          "name": "stdout",
          "output_type": "stream",
          "text": [
            "{'Justin-bieber-one-time-lyrics': \"\\n\\n[Intro]\\nMe plus you\\nI'mma tell you one time\\nMe plus you (one time)\\nI'mma tell you one time\\nMe plus you (one time)\\nI'mma tell you one time\\nOne time, one time\\n\\n[Verse 1]\\nWhen I met you, girl, my heart went knock, knock\\nNow them butterflies in my stomach won't stop, stop\\nAnd even though it's a struggle, love is all we got\\nSo we gon' keep, keep climbing to the mountain top\\n\\n[Pre-Chorus]\\nYour world is my world\\nAnd my fight is your fight\\nAnd my breath is your breath\\nWhen you're hurt, I'm not right\\n\\n[Chorus]\\nAnd girl, you're my one love\\nMy one heart, my one life for sure\\nLet me tell you one time (girl, I love, girl, I love you)\\nI'mma tell you one time (girl, I love, girl, I love you)\\nAnd I'mma be your one guy, you'll be my number one girl\\nAlways making time for you\\nI'mma tell you one time (girl, I love, girl, I love you)\\nI'mma tell you one time (girl, I love, girl, I love you)\\n\\n[Verse 2]\\nYour love's so deep\\nYou know that it humbles me\\nYou're by my side\\nThem troubles, them not trouble me\\nMany have called, but the chosen is you\\nWhatever you want shawty, I'll give it to you\\n\\n[Pre-Chorus]\\nYour world is my world\\nAnd my fight is your fight\\nAnd my breath is your breath\\nWhen you're hurt, I'm not right\\n\\n[Chorus]\\nAnd girl, you're my one love\\nMy one heart, my one life for sure\\nLet me tell you one time (girl, I love, girl, I love you)\\nI'mma tell you one time (girl, I love, girl, I love you)\\nAnd I'mma be your one guy, you'll be my number one girl\\nAlways making time for you\\nI'mma tell you one time (girl, I love, girl, I love you)\\nI'mma tell you one time (girl, I love, girl, I love you)\\n\\n[Bridge]\\nShawty right there\\nShe's got everything I need\\nAnd I'mma tell her one time, one time, one time\\nGive you everything you need\\nDown to my last dime\\nShe makes me happy\\nI know where I'll be\\nRight by your side 'cause she is the one for me, yeah\\n\\n[Chorus]\\nAnd girl, you're my one love\\nMy one heart, my one life for sure\\nLet me tell you one time (girl, I love, girl, I love you)\\nI'mma tell you one time (girl, I love, girl, I love you)\\nAnd I'mma be your one guy, you'll be my number one girl\\nAlways making time for you\\nI'mma tell you one time (girl, I love, girl, I love you)\\nI'mma tell you one time (girl, I love, girl, I love you)\\n\\n[Outro]\\nMe plus you\\nI'mma tell you one time\\nMe plus you\\nI'mma tell you one time\\nMe plus you\\nI'mma tell you one time\\nOne time, one time\\n\\n\"}\n",
            "{'Bones-connectingtoserver-lyrics': \"\\n\\n[Hook 1]\\nCan you stand the rain?\\nNew Edition, like the calendar say '88\\nMatte black trench coat with the razor straight\\nMake ya drop and give me 20 like Major Payne\\nNow they signing off to majors for the lamest change\\nTrying to justify it like it's always been the dream\\nThey go with the scheme, I evolve with my team\\nNo label attached, no strings on me, can you?\\nCan you stand the rain?\\nNew edition like the calendar say '88\\nMatte black trench coat with the razor straight\\nMake ya drop and give me 20 like Major Payne\\n\\n[Post-Hook]\\nEver since we came up, don't know how to act\\nNow I need a pack just to help me relax\\nEver since we came up, don't know how to act\\nLooking at the map, only way to know where I'm at\\nEver since we came up, don't know how to act\\nNow I need a pack just to help me relax\\nEver since we came up, don't know how to act\\nLooking at the map, only way to know where I'm at\\nWhat, What\\n\\n[Verse]\\nClose the doors and quickly, I'm calling order\\nI'm swiftly when I'm recording, distorted until the morning\\nI'm flowing, it's kinda hard when you mourning\\nDon't disregard it, you're with me forever, promise you\\nMemories never tarnish, the second I heard you calling\\nTime I thought we have more of\\nLife reminds you seconds that we got are always going\\nAll is unimportant when you lose someone important\\nCannot render thoughts, let alone the words to export them\\n\\n[Hook 2]\\nCan you stand the rain?\\nNew Edition, like the calendar say '88\\nMatte black trench coat with the razor straight\\nMake ya drop and give me 20 like Major Payne\\nNow they signing off to majors for the lamest chains\\nTrying to justify it like it's always been the dream\\nThey go with the scheme, I evolve with my team\\nNo label attached, no strings on me, can you?\\n\\n\"}\n"
          ]
        }
      ],
      "source": [
        "# your code here\n",
        "# please print out the first 2 docs\n",
        "import json\n",
        "from collections import defaultdict\n",
        "\n",
        "lyricsFile = open('lyrics_1000.jl', 'r')\n",
        "songs = defaultdict(str)\n",
        "for line in lyricsFile:\n",
        "    song = json.loads(line)\n",
        "    songs[song['song']] = song['lyrics']\n",
        "\n",
        "first2pairs = [{k: songs[k]} for k in list(songs.keys())[:2]]\n",
        "for doc in first2pairs:\n",
        "    print(doc)"
      ]
    },
    {
      "cell_type": "markdown",
      "metadata": {
        "id": "ax-juuk1zLuw"
      },
      "source": [
        "Now that you can read the documents, let's move on to tokenization. We are going to simplify things for you:\n",
        "1. You should **lowercase** all words.\n",
        "2. Remove song structure indicators.\n",
        "(**strings in square brackets**, e.g., [Verse 1: Mike Shinoda & Chester Bennington])\n",
        "3. Replace line breaks (e.g., \\n, \\n\\n), punctuations, and special characters (\\u2019, \\u2005, etc.) with empty space (\" \").\n",
        "4. Tokenize the documents by splitting on whitespace.\n",
        "5. Then only keep words that have a-zA-Z in them."
      ]
    },
    {
      "cell_type": "code",
      "execution_count": 3,
      "metadata": {
        "id": "_CpG2ifejjvx"
      },
      "outputs": [],
      "source": [
        "# your code here\n",
        "import re\n",
        "def tokenize(document):\n",
        "    document = document.lower()\n",
        "    document = re.sub(r\"\\[[^\\]]*\\]\", \" \", document) # removes song structure indicators\n",
        "    document = re.sub(r\"\\\\u[a-z0-9]{4}\", \" \", document) # removes special characters\n",
        "    document = re.sub(\"\\\\n\", ' ', document) # Removes \\n\n",
        "    document = re.sub(\"_\", ' ', document) # removes _\n",
        "    document = re.sub(r\"\\b\\d+\\b\", ' ', document) # removes digits\n",
        "    document = re.sub(r'[^a-zA-Z\\s]',' ',document) # maintains only a-zA-z\n",
        "    # document = re.sub(r'[\\n!‘@#$%^&*(),.?\":{}|<>_+=\\[\\]\\\\\\';`~]', \" \", document)\n",
        "    document = re.sub(\"\\s+\", \" \", document)\n",
        "    return document\n",
        "\n",
        "docs = defaultdict(str)\n",
        "file = open('somefile.txt', 'w')\n",
        "for docId in songs:\n",
        "    docs[docId] = tokenize(songs[docId]).split()\n",
        "    file.write(repr(' '.join([x for x in docs[docId]])))\n",
        "    file.write('\\n')\n",
        "file.close()"
      ]
    },
    {
      "cell_type": "markdown",
      "metadata": {
        "id": "tst9U9DxN-Jp"
      },
      "source": [
        "## Print the first two documents after tokenizing (10 points)\n",
        "\n",
        "Once you have your parser working, you should print the first two documents (documentID and tokens).\n",
        "\n",
        "Your output should look like this:\n",
        "\n",
        "* DocumentID Tokens\n",
        "\n"
      ]
    },
    {
      "cell_type": "code",
      "execution_count": 4,
      "metadata": {
        "colab": {
          "base_uri": "https://localhost:8080/"
        },
        "id": "WcJbBEQgJUd8",
        "outputId": "15d0d49c-3cf6-4a30-f7f1-d31d9d7754c5"
      },
      "outputs": [
        {
          "name": "stdout",
          "output_type": "stream",
          "text": [
            "Justin-bieber-one-time-lyrics ['me', 'plus', 'you', 'i', 'mma', 'tell', 'you', 'one', 'time', 'me', 'plus', 'you', 'one', 'time', 'i', 'mma', 'tell', 'you', 'one', 'time', 'me', 'plus', 'you', 'one', 'time', 'i', 'mma', 'tell', 'you', 'one', 'time', 'one', 'time', 'one', 'time', 'when', 'i', 'met', 'you', 'girl', 'my', 'heart', 'went', 'knock', 'knock', 'now', 'them', 'butterflies', 'in', 'my', 'stomach', 'won', 't', 'stop', 'stop', 'and', 'even', 'though', 'it', 's', 'a', 'struggle', 'love', 'is', 'all', 'we', 'got', 'so', 'we', 'gon', 'keep', 'keep', 'climbing', 'to', 'the', 'mountain', 'top', 'your', 'world', 'is', 'my', 'world', 'and', 'my', 'fight', 'is', 'your', 'fight', 'and', 'my', 'breath', 'is', 'your', 'breath', 'when', 'you', 're', 'hurt', 'i', 'm', 'not', 'right', 'and', 'girl', 'you', 're', 'my', 'one', 'love', 'my', 'one', 'heart', 'my', 'one', 'life', 'for', 'sure', 'let', 'me', 'tell', 'you', 'one', 'time', 'girl', 'i', 'love', 'girl', 'i', 'love', 'you', 'i', 'mma', 'tell', 'you', 'one', 'time', 'girl', 'i', 'love', 'girl', 'i', 'love', 'you', 'and', 'i', 'mma', 'be', 'your', 'one', 'guy', 'you', 'll', 'be', 'my', 'number', 'one', 'girl', 'always', 'making', 'time', 'for', 'you', 'i', 'mma', 'tell', 'you', 'one', 'time', 'girl', 'i', 'love', 'girl', 'i', 'love', 'you', 'i', 'mma', 'tell', 'you', 'one', 'time', 'girl', 'i', 'love', 'girl', 'i', 'love', 'you', 'your', 'love', 's', 'so', 'deep', 'you', 'know', 'that', 'it', 'humbles', 'me', 'you', 're', 'by', 'my', 'side', 'them', 'troubles', 'them', 'not', 'trouble', 'me', 'many', 'have', 'called', 'but', 'the', 'chosen', 'is', 'you', 'whatever', 'you', 'want', 'shawty', 'i', 'll', 'give', 'it', 'to', 'you', 'your', 'world', 'is', 'my', 'world', 'and', 'my', 'fight', 'is', 'your', 'fight', 'and', 'my', 'breath', 'is', 'your', 'breath', 'when', 'you', 're', 'hurt', 'i', 'm', 'not', 'right', 'and', 'girl', 'you', 're', 'my', 'one', 'love', 'my', 'one', 'heart', 'my', 'one', 'life', 'for', 'sure', 'let', 'me', 'tell', 'you', 'one', 'time', 'girl', 'i', 'love', 'girl', 'i', 'love', 'you', 'i', 'mma', 'tell', 'you', 'one', 'time', 'girl', 'i', 'love', 'girl', 'i', 'love', 'you', 'and', 'i', 'mma', 'be', 'your', 'one', 'guy', 'you', 'll', 'be', 'my', 'number', 'one', 'girl', 'always', 'making', 'time', 'for', 'you', 'i', 'mma', 'tell', 'you', 'one', 'time', 'girl', 'i', 'love', 'girl', 'i', 'love', 'you', 'i', 'mma', 'tell', 'you', 'one', 'time', 'girl', 'i', 'love', 'girl', 'i', 'love', 'you', 'shawty', 'right', 'there', 'she', 's', 'got', 'everything', 'i', 'need', 'and', 'i', 'mma', 'tell', 'her', 'one', 'time', 'one', 'time', 'one', 'time', 'give', 'you', 'everything', 'you', 'need', 'down', 'to', 'my', 'last', 'dime', 'she', 'makes', 'me', 'happy', 'i', 'know', 'where', 'i', 'll', 'be', 'right', 'by', 'your', 'side', 'cause', 'she', 'is', 'the', 'one', 'for', 'me', 'yeah', 'and', 'girl', 'you', 're', 'my', 'one', 'love', 'my', 'one', 'heart', 'my', 'one', 'life', 'for', 'sure', 'let', 'me', 'tell', 'you', 'one', 'time', 'girl', 'i', 'love', 'girl', 'i', 'love', 'you', 'i', 'mma', 'tell', 'you', 'one', 'time', 'girl', 'i', 'love', 'girl', 'i', 'love', 'you', 'and', 'i', 'mma', 'be', 'your', 'one', 'guy', 'you', 'll', 'be', 'my', 'number', 'one', 'girl', 'always', 'making', 'time', 'for', 'you', 'i', 'mma', 'tell', 'you', 'one', 'time', 'girl', 'i', 'love', 'girl', 'i', 'love', 'you', 'i', 'mma', 'tell', 'you', 'one', 'time', 'girl', 'i', 'love', 'girl', 'i', 'love', 'you', 'me', 'plus', 'you', 'i', 'mma', 'tell', 'you', 'one', 'time', 'me', 'plus', 'you', 'i', 'mma', 'tell', 'you', 'one', 'time', 'me', 'plus', 'you', 'i', 'mma', 'tell', 'you', 'one', 'time', 'one', 'time', 'one', 'time']\n",
            "Bones-connectingtoserver-lyrics ['can', 'you', 'stand', 'the', 'rain', 'new', 'edition', 'like', 'the', 'calendar', 'say', 'matte', 'black', 'trench', 'coat', 'with', 'the', 'razor', 'straight', 'make', 'ya', 'drop', 'and', 'give', 'me', 'like', 'major', 'payne', 'now', 'they', 'signing', 'off', 'to', 'majors', 'for', 'the', 'lamest', 'change', 'trying', 'to', 'justify', 'it', 'like', 'it', 's', 'always', 'been', 'the', 'dream', 'they', 'go', 'with', 'the', 'scheme', 'i', 'evolve', 'with', 'my', 'team', 'no', 'label', 'attached', 'no', 'strings', 'on', 'me', 'can', 'you', 'can', 'you', 'stand', 'the', 'rain', 'new', 'edition', 'like', 'the', 'calendar', 'say', 'matte', 'black', 'trench', 'coat', 'with', 'the', 'razor', 'straight', 'make', 'ya', 'drop', 'and', 'give', 'me', 'like', 'major', 'payne', 'ever', 'since', 'we', 'came', 'up', 'don', 't', 'know', 'how', 'to', 'act', 'now', 'i', 'need', 'a', 'pack', 'just', 'to', 'help', 'me', 'relax', 'ever', 'since', 'we', 'came', 'up', 'don', 't', 'know', 'how', 'to', 'act', 'looking', 'at', 'the', 'map', 'only', 'way', 'to', 'know', 'where', 'i', 'm', 'at', 'ever', 'since', 'we', 'came', 'up', 'don', 't', 'know', 'how', 'to', 'act', 'now', 'i', 'need', 'a', 'pack', 'just', 'to', 'help', 'me', 'relax', 'ever', 'since', 'we', 'came', 'up', 'don', 't', 'know', 'how', 'to', 'act', 'looking', 'at', 'the', 'map', 'only', 'way', 'to', 'know', 'where', 'i', 'm', 'at', 'what', 'what', 'close', 'the', 'doors', 'and', 'quickly', 'i', 'm', 'calling', 'order', 'i', 'm', 'swiftly', 'when', 'i', 'm', 'recording', 'distorted', 'until', 'the', 'morning', 'i', 'm', 'flowing', 'it', 's', 'kinda', 'hard', 'when', 'you', 'mourning', 'don', 't', 'disregard', 'it', 'you', 're', 'with', 'me', 'forever', 'promise', 'you', 'memories', 'never', 'tarnish', 'the', 'second', 'i', 'heard', 'you', 'calling', 'time', 'i', 'thought', 'we', 'have', 'more', 'of', 'life', 'reminds', 'you', 'seconds', 'that', 'we', 'got', 'are', 'always', 'going', 'all', 'is', 'unimportant', 'when', 'you', 'lose', 'someone', 'important', 'cannot', 'render', 'thoughts', 'let', 'alone', 'the', 'words', 'to', 'export', 'them', 'can', 'you', 'stand', 'the', 'rain', 'new', 'edition', 'like', 'the', 'calendar', 'say', 'matte', 'black', 'trench', 'coat', 'with', 'the', 'razor', 'straight', 'make', 'ya', 'drop', 'and', 'give', 'me', 'like', 'major', 'payne', 'now', 'they', 'signing', 'off', 'to', 'majors', 'for', 'the', 'lamest', 'chains', 'trying', 'to', 'justify', 'it', 'like', 'it', 's', 'always', 'been', 'the', 'dream', 'they', 'go', 'with', 'the', 'scheme', 'i', 'evolve', 'with', 'my', 'team', 'no', 'label', 'attached', 'no', 'strings', 'on', 'me', 'can', 'you']\n"
          ]
        }
      ],
      "source": [
        "# your code and output here\n",
        "first2pairs = {k: docs[k] for k in list(docs.keys())[:2]}\n",
        "for key in first2pairs:\n",
        "    print(key, first2pairs[key])"
      ]
    },
    {
      "cell_type": "markdown",
      "metadata": {
        "id": "L2yVi76Ij1ys"
      },
      "source": [
        "\n",
        "## Dictionary Size (10 points)\n",
        "\n",
        "Next you should report the size of your dictionary, that is, how many unique tokens.\n",
        "\n",
        "\n"
      ]
    },
    {
      "cell_type": "code",
      "execution_count": 5,
      "metadata": {
        "colab": {
          "base_uri": "https://localhost:8080/"
        },
        "id": "53bAA66zkI55",
        "outputId": "10051697-c200-4f91-fa06-84325d70a471"
      },
      "outputs": [
        {
          "name": "stdout",
          "output_type": "stream",
          "text": [
            "9159\n"
          ]
        }
      ],
      "source": [
        "# your code and output here\n",
        "from collections import defaultdict\n",
        "\n",
        "globalDict = defaultdict(lambda: defaultdict(list))\n",
        "totalCount = defaultdict(int)\n",
        "def freqCounter(tokenList, docId):\n",
        "    for i in range(0, len(tokenList)):\n",
        "        token = tokenList[i]\n",
        "        globalDict[token][docId].append(i)\n",
        "        totalCount[token] += 1\n",
        "\n",
        "for docId in docs:\n",
        "    freqCounter(docs[docId], docId)\n",
        "\n",
        "\n",
        "print(len(globalDict))"
      ]
    },
    {
      "cell_type": "markdown",
      "metadata": {
        "id": "uU928IKKkJGY"
      },
      "source": [
        "\n",
        "## Top-20 Words (10 points)\n",
        "\n",
        "Finally, you should print a list of the top-20 most popular words by count.\n",
        "\n",
        "\n",
        "Your output should look like this:\n",
        "\n",
        "* Rank. Token, Count\n",
        "\n",
        "1. awesome, 20\n",
        "2. cool, 15\n",
        "3. ..."
      ]
    },
    {
      "cell_type": "code",
      "execution_count": 6,
      "metadata": {
        "colab": {
          "base_uri": "https://localhost:8080/"
        },
        "id": "8MS6n6oNklvf",
        "outputId": "a50decb0-2443-48f5-8ab0-30c7bd26187d"
      },
      "outputs": [
        {
          "name": "stdout",
          "output_type": "stream",
          "text": [
            "1. i, 14382\n",
            "2. you, 12693\n",
            "3. the, 8035\n",
            "4. it, 5749\n",
            "5. to, 5339\n",
            "6. and, 5124\n",
            "7. me, 4998\n",
            "8. a, 4247\n",
            "9. t, 3963\n",
            "10. s, 3842\n",
            "11. my, 3598\n",
            "12. in, 3079\n",
            "13. we, 2919\n",
            "14. m, 2741\n",
            "15. that, 2572\n",
            "16. your, 2568\n",
            "17. oh, 2435\n",
            "18. know, 2313\n",
            "19. love, 2306\n",
            "20. all, 2243\n"
          ]
        }
      ],
      "source": [
        "# your code and output here\n",
        "sorted_dic = sorted(totalCount.items(), key=lambda item: -item[1])\n",
        "for i in range(0, 20):\n",
        "    print(f'{i+1}. {sorted_dic[i][0]}, {sorted_dic[i][1]}')"
      ]
    },
    {
      "cell_type": "markdown",
      "metadata": {
        "id": "lcrFD2F-N-Jp"
      },
      "source": [
        "# Part 2: Boolean Retrieval (50 points)\n",
        "\n",
        "In this part you will build an inverted index to support Boolean retrieval. You should use the tokenization strategy from above.\n",
        "\n",
        "We require your index to support AND, OR, NOT queries.\n",
        "\n",
        "Search for the queries below using your index and print out matching documents (for each query, print out 5 matching documents):\n",
        "* time\n",
        "* never AND know\n",
        "* make AND sense\n",
        "* make AND sense AND NOT kid\n",
        "* never OR know\n",
        "\n",
        "Recall, that you should apply the exact same pre-processing strategies to the query as we do to the documents.\n",
        "\n",
        "The output should like this:\n",
        "* DocumentID Document\n",
        "\n",
        "To make our life easier, please output the DocumentIDs in alphabetical order."
      ]
    },
    {
      "cell_type": "code",
      "execution_count": 7,
      "metadata": {},
      "outputs": [],
      "source": [
        "import timeit\n",
        "\n",
        "def notProcessor(query):\n",
        "    query = query.strip()\n",
        "    query = query[query.find('NOT') + 3:]\n",
        "    query.strip()\n",
        "    subresult = binaryQueryProcessor(query)\n",
        "    result = []\n",
        "    for doc in docs:\n",
        "        if doc not in subresult:\n",
        "            result.append(doc)\n",
        "    return result\n",
        "\n",
        "def orProcessor(query):\n",
        "    query = query.strip()\n",
        "    queryItems = query.split('or')\n",
        "    results = []\n",
        "    for item in queryItems:\n",
        "        results.append(binaryQueryProcessor(item))\n",
        "\n",
        "    union = []\n",
        "    for result in results:\n",
        "        for key in result:\n",
        "            if key not in union:\n",
        "                union.append(key)\n",
        "    return union\n",
        "        \n",
        "\n",
        "def andProcessor(query):\n",
        "    query = query.strip()\n",
        "    queryItems = query.split('and')\n",
        "    results = []\n",
        "    for item in queryItems:\n",
        "        results.append(binaryQueryProcessor(item))\n",
        "    intersection = results[0]\n",
        "    for i in range(1, len(results)):\n",
        "        intersection = [x for x in results[i] if x in intersection]\n",
        "    return intersection\n",
        "\n",
        "def binaryQueryProcessor(query):\n",
        "    query = query.strip()\n",
        "    if query.startswith(\"not \"):\n",
        "        return notProcessor(query)\n",
        "    elif \" and \" in query:\n",
        "        return andProcessor(query)\n",
        "    elif \" or \" in query:\n",
        "        return orProcessor(query)\n",
        "    else:\n",
        "        return [key for key in globalDict[query]]\n",
        "    \n",
        "def processQuery(query, numberOfResults=5):\n",
        "    start = timeit.default_timer()\n",
        "\n",
        "    results = binaryQueryProcessor(tokenize(query))\n",
        "    results = sorted(results)\n",
        "    resultDict = defaultdict(str)\n",
        "    for i in range(0, min(numberOfResults, len(results))):\n",
        "        resultDict[results[i]] = songs[results[i]]\n",
        "\n",
        "    stop = timeit.default_timer()\n",
        "\n",
        "    print(f'Total Time required to process query: {stop-start:.4f}')\n",
        "    return resultDict"
      ]
    },
    {
      "cell_type": "markdown",
      "metadata": {},
      "source": []
    },
    {
      "cell_type": "markdown",
      "metadata": {
        "id": "OsA7pR87LnE3"
      },
      "source": [
        "Now show the results for the query: `time`"
      ]
    },
    {
      "cell_type": "markdown",
      "metadata": {
        "id": "82YUVPUknOjX"
      },
      "source": [
        "## Running the five queries (8 points each, so 5*8 = 40 points)"
      ]
    },
    {
      "cell_type": "code",
      "execution_count": 8,
      "metadata": {},
      "outputs": [],
      "source": [
        "queries = ['time', 'never AND know', 'make AND sense', 'make AND sense AND NOT kid', 'never OR know']"
      ]
    },
    {
      "cell_type": "code",
      "execution_count": 9,
      "metadata": {
        "collapsed": true,
        "id": "qWH8h5ZkN-Jp"
      },
      "outputs": [
        {
          "name": "stdout",
          "output_type": "stream",
          "text": [
            "Total Time required to process query: 0.0001\n",
            "2pac-intro-lyrics  :  \"\\n\\n[Male Reporter]\\nAt 12:25 AM Wednesday, 2Pac was on his way into a time square building to record at an eight-floor studio with another rapper. But in the lobby, Shakur was shot several times, including two graze wounds to the head. 2Pac's lawyers said the attack appeared to be a setup\\n\\n[Female Reporter]\\nAgainst doctors orders, 2Pac Shakur checked himself out of the hospital less than 24 hours after being shot 5 times on the way into a Manhattan recording studio\\n\\n[Male Reporter]\\n2Pac Shakur secures one clean legal victory this year, as he's dismissed of assault charges brought against him when he allegedly shot at two off-duty Atlantic cops on Halloween last year. The case was dismissed due to insufficient evidence\\n\\n[Male Reporter]\\nMore controvery surrounding 2Pac Shakur ...\\n\\n[Female Reporter]\\nMeanwhile, in 2Pac news, at about 6:45 tonight, Shakur may have lowered his own chances of surviving the attack by checking himself out of the hospital that probably saved his life\\n\\n[Male Reporter]\\n2Pac Shakur checked into the Metropolitan Hospital yesterday under an assumed name. His lawyers said that he had connections, but wouldn't say what kind, that could provide top notch security for the injured rap star\\n\\n[Female Reporter]\\nShakur underwent surgery today ...\\n\\n[Male Reporter]\\nThe shooting of 2Pac Shakur here in New York City once again underscores the violence that has surrounded this man since he shot to superstardom in the world of music and entertainment\\n\\n\"\n",
            "2pac-the-eternal-lament-poem-annotated  :  \"\\n\\nFrom my mind 2 the depths of my soul\\nI yearn 2 achieve all of my goals\\nAnd all of my free time will be spent\\nOn the 1's I miss I will lament\\n\\nI am not a perfectionist\\nBut still I seek perfection\\nI am not a great romantic\\nBut yet I yearn 4 affection\\n\\nEternally my mind will produce\\nways 2 put my talents 2 use\\nand when I'm done no matter where I've been\\nI'll yearn 2 do it all again.\\n\\n\"\n",
            "5-seconds-of-summer-dont-stop-lyrics  :  \"\\n\\n[Verse 1: Luke]\\nYou're like perfection, some kind of holiday\\nYou got me thinking that we could run away\\nYou want, I’ll take you there\\nYou tell me when and where, oh-oh, oh, oh\\n\\n[Pre-Chorus: Luke]\\nBut then I asked for your number, said you don’t have a phone\\nIt’s getting late now, I gotta let you know\\nThat everybody wants to take you home tonight\\nBut I’m gonna find a way to make you mine\\n\\n[Chorus: All]\\nDon’t stop doing what you’re doing\\nEvery time you move to the beat\\nIt gets harder for me\\nAnd you know it, know it, know it\\nAnd don’t stop 'cause you know that I like it\\nEvery time you walk in the room\\nYou got all eyes on you\\nAnd you know it, know it, know it\\n\\n[Verse 2: Calum]\\nYou're coming close now, swear I can taste it\\nYou got me tongue-tied, I can't escape it\\nI’m loving what you got\\nBut then you push me off, oh-oh, oh, oh\\n\\n[Pre-Chorus: Calum]\\nAnd everybody wants to take you home tonight\\nBut I’m gonna find a way to make you mine\\n\\n[Chorus: All]\\nDon’t stop doing what you’re doing\\nEvery time you move to the beat\\nIt gets harder for me\\nAnd you know it, know it, know it\\nAnd don’t stop 'cause you know that I like it\\nEvery time you walk in the room\\nYou got all eyes on you\\nAnd you know it, know it, know it\\n\\n[Bridge: Michael & Luke]\\nEvery day it’s the same\\nAll the games that you play\\nBack and forth, round and round\\nKinda like it this way\\nDon’t stop doing what you’re doing\\n'Cause everytime you move to the beat\\nIt gets harder for me\\nAnd you know it, know it, know it\\n\\n[Chorus: All & Ashton & Michael]\\nDon’t stop 'cause you know that I like it\\nEvery time you walk in the room\\nYou got all eyes on you\\nAnd you know it, know it, know it, know it\\nDon’t stop\\nDon’t stop, stop what you’re doing\\nDoing what you're doing\\n'Cause you know that, you know that I like it\\nEverytime you move to the beat\\nIt gets harder for me\\nAnd you know it, know it, know it\\nAnd don’t stop 'cause you know that I like it\\nYou know that I like it\\nEvery time you walk in the room\\nYou got all eyes on you\\nAnd you know it, know it, know it\\n\\n\"\n",
            "5-seconds-of-summer-everything-i-didnt-say-lyrics  :  \"\\n\\n[Intro: Calum]\\nOh, oh, oh, oh, oh, oh\\nOh, oh, oh, oh, oh\\nOh, oh, oh, oh, oh, oh, oh\\nThis is everything I didn't say\\n\\n[Verse 1: Calum]\\nWait, don’t tell me Heaven is a place on earth\\nI wish I could rewind all the times that I didn’t show you what you’re really worth\\nThe way you held me, I wish that I had put you first\\nI was wrong I admit, numb from your kiss\\nWhile you were slipping through my fingertips\\n\\n[Chorus: All & Calum]\\nTaking every breath away\\nWith all of the mistakes I’ve made\\nFrom all the letters that I’ve saved\\nThis is everything I didn’t say\\nI wish I could’ve made you stay\\nAnd I’m the only one to blame\\nI know that it’s a little too late\\nThis is everything I didn’t say\\nOh, oh, oh, oh, oh, oh\\nOh, oh, oh, oh, oh, oh\\nThis is everything I didn’t say\\n\\n[Verse 2: Luke]\\nWake me up now and tell me this is all a bad dream\\nAll the songs that I wrote\\nAll the wrongs that I hoped\\nWould erase from your memory\\nHolding onto a broken and empty heart\\nFlowers I should’ve bought\\nAll the hours I lost\\nWish I could bring it back to the start\\n\\n[Chorus: All & Calum]\\nTaking every breath away\\nWith all of the mistakes I’ve made\\nFrom all the letters that I’ve saved\\nThis is everything I didn't say\\nI wish I could make you stay\\nAnd I'm the only one to blame\\nI know that it's a little to late\\nThis is everything I didn't say\\n\\n[Bridge: Michael]\\nI hope you know for you I’d sacrifice\\nTo make this right\\nWoah, oh, oh\\nWoah, oh, oh\\nSome day I’m sure we’ll pass each other by\\nUntil that time\\n\\n[Chorus: All & Calum]\\nTaking every breath away\\nWith all of the mistakes I’ve made\\nFrom all the letters that I’ve saved\\nThis is everything I didn’t say\\nI wish I could’ve made you stay\\nAnd I’m the only one to blame\\nI know that it’s a little too late\\nThis is everything I didn’t say\\nOh, oh, oh, oh, oh, oh\\nOh, oh, oh, oh, oh\\nOh, oh, oh, oh, oh, oh, oh\\nThis is everything I didn't say\\nOh, oh, oh, oh, oh, oh\\nOh, oh, oh, oh, oh\\nOh, oh, oh, oh, oh, oh, oh\\n\\n\"\n",
            "5-seconds-of-summer-good-girls-lyrics  :  '\\n\\n[Verse 1: Michael]\\nShe\\'s a good girl, she\\'s Daddy\\'s favourite\\nHe\\'s saved for Harvard, he knows she\\'ll make it\\nShe\\'s good at school, she\\'s never truant\\nShe can speak French, I think she\\'s fluent\\n\\n[Pre-Chorus: Calum & Michael]\\n\\'Cause every night she studies hard in her room\\nAt least that’s what her parents assume\\nBut she sneaks out the window to meet with her boyfriend\\nHere\\'s what she told me the time that I caught them\\n\\n[Chorus: All & Luke]\\nShe said to me, \"Forget what you thought\"\\n\\'Cause good girls are bad girls that haven’t been caught\\nSo just turn around and forget what you saw\\n\\'Cause good girls are bad girls that haven’t been caught\\nGood girls are bad girls that haven’t been caught\\nGood girls are bad girls that haven’t been caught\\n\\n[Verse 2: Calum & Michael]\\nShe\\'s a good girl, a straight A-student\\nShe\\'s really into all that self-improvement\\nI swear she lives in that library\\nBut if you ask her she\\'ll say, \"That\\'s where you\\'ll find me\"\\n\\n[Pre-Chorus: Luke & Michael]\\nBut if you look then you won’t find her there\\nShe may be clever but she just acts too square\\n\\'Cause in the back of the room where nobody looks\\nShe’ll be with her boyfriend\\nShe’s not reading books\\n\\n[Chorus: All & Luke]\\nShe said to me, \"Forget what you thought\"\\n\\'Cause good girls are bad girls that haven’t been caught\\nSo just turn around and forget what you saw\\n\\'Cause good girls are bad girls that haven’t been caught\\nGood girls are bad girls and good girls are bad girls\\nGood girls are bad girls and good girls are bad girls\\n\\n[Bridge: Ashton]\\nShe’s a good girl, hasn’t been caught\\nShe’s a good girl, hasn’t been caught\\n\\n[Chorus: All]\\nShe said to me, \"Forget what you thought\"\\n\\'Cause good girls are bad girls that haven’t been caught\\nSo just turn around and forget what you saw\\n\\'Cause good girls are bad girls that haven’t been caught\\n\\n[Outro: Luke]\\nGood girls are bad girls that haven’t been caught\\nGood girls are bad girls that haven’t been caught\\nGood girls are bad girls that haven’t been caught\\n\\n'\n"
          ]
        }
      ],
      "source": [
        "# search for the input using your index and print out ids of matching documents.\n",
        "queryResult = processQuery(queries[0])\n",
        "for result in queryResult:\n",
        "    print(result, \" : \" ,repr(queryResult[result]))"
      ]
    },
    {
      "cell_type": "markdown",
      "metadata": {
        "id": "SbJ6yn3yMQWY"
      },
      "source": [
        "Now show the results for the query: `never AND know`\n",
        "\n",
        "---\n",
        "\n",
        "\n"
      ]
    },
    {
      "cell_type": "code",
      "execution_count": 10,
      "metadata": {
        "id": "SmF62rQ_MRlO"
      },
      "outputs": [
        {
          "name": "stdout",
          "output_type": "stream",
          "text": [
            "Total Time required to process query: 0.0006\n",
            "5-seconds-of-summer-broken-pieces-lyrics  :  \"\\n\\n[Verse 1: Calum]\\nI woke up in the place we started\\nYour clothes on the floor in that old apartment\\nI never thought you'd leave without a trace\\nI can't shake this sinking feeling\\nI know you're not there and I'm barely breathing\\nHolding onto things I can't replace\\n\\n[Pre-Chorus: Calum]\\nI'm looking for a way to change my mind and walk away\\n\\n[Chorus: All]\\nOh, tell me what we're fighting for\\nIt's turning to an all-out war\\nI'll find a way to fix these broken pieces\\nAnd let go\\nI'm tryna find a way back home\\nIf it takes until I'm skin and bones\\nI'll find a way to fix these broken pieces\\nAnd let go\\n\\n[Verse 2: Luke & Michael]\\nOur last words ringing in my head\\nI wish we'd take back all the things we said\\nI'm tryna find a way to yesterday\\nTalking in circles and chasing our tails\\nAnd wondering why we created this wasteland\\nI wish you wouldn't be so cavalier\\n\\n[Pre-Chorus: Luke]\\nI'm looking for a way to change my mind and walk away\\n\\n[Chorus: All]\\nOh, tell me what we're fighting for\\nIt's turning to an all-out war\\nI'll find a way to fix these broken pieces\\nAnd let go\\nI'm tryna find a way back home\\nIf it takes until I'm skin and bones\\nI'll find a way to fix these broken pieces\\nAnd let go, let go, let go\\nFix these broken pieces and let go\\n\\n[Bridge: Michael & Ashton]\\nWe're fading out, we're all alone\\nIt's what you wanted, I suppose\\nI can tell you feel the same\\nWhen you say you're looking for a way to change your mind and walk away\\nOh, tell me what we're fighting for\\nIt's turning to an all-out war\\nWe'll find a way to fix these broken pieces\\n\\n[Chorus: All]\\nOh, tell me what we're fighting for\\nIt's turning to an all-out war\\nI'll find a way to fix these broken pieces\\nAnd let go\\nI'm tryna find a way back home\\nIf it takes until I'm skin and bones\\nI'll find a way to fix these broken pieces\\nAnd let go, let go, let go\\nFix these broken pieces and let go\\n\\n\"\n",
            "5-seconds-of-summer-heartbreak-girl-lyrics  :  '\\n\\n[Verse 1: Calum]\\nYou call me up, it\\'s like a broken record\\nSaying that your heart hurts\\nThat you\\'d never get over him getting over you\\nAnd you end up crying\\nAnd I end up lying\\n\\'Cause I\\'m just a sucker for anything that you do\\n\\n[Pre-Chorus: Luke]\\nAnd when then phone call finally ends\\nYou say \"thanks for being a friend\"\\nAnd we\\'re going in circles again and again\\n\\n[Chorus: All]\\nI dedicate this song to you\\nThe one who never sees the truth\\nThat I can take away your hurt\\nHeartbreak girl\\nHold you tight straight through the daylight\\nI\\'m right here, when you gonna realise\\nThat I\\'m your cure?\\nHeartbreak girl\\n\\n[Verse 2: Calum]\\nI bite my tongue but I wanna scream out\\nYou could be with me now\\nBut I end up telling you what you want to hear\\nBut you\\'re not ready\\nAnd it\\'s so frustrating\\nHe treats you so bad and I\\'m so good to you, it\\'s not fair\\n\\n[Pre-Chorus: Luke]\\nAnd when the phone call finally ends\\nYou say I\\'ll call you tomorrow at 10\\nAnd I\\'m stuck in the friend zone again and again\\n\\n[Chorus: All]\\nI dedicate this song to you\\nThe one who never sees the truth\\nThat I can take away your hurt\\nHeartbreak girl\\nHold you tight straight through the daylight\\nI\\'m right here, when you gonna realise\\nThat I\\'m your cure?\\nHeartbreak girl\\n\\n[Bridge: Luke & Calum]\\nI know someday it\\'s gonna happen\\nAnd you\\'ll finally forget the day you met him\\nSometimes I\\'m so close to confession\\nI gotta get it through your head\\nThat you belong with me instead\\n\\n[Chorus: All]\\nI dedicate this song to you\\nThe one who never sees the truth\\nThat I can take away your hurt\\nHeartbreak girl\\nHold you tight straight through the daylight\\nI\\'m right here, when you gonna realise\\nThat I\\'m your cure?\\nHeartbreak girl\\n\\nI dedicate this song to you\\nThe one who never sees the truth\\nThat I can take away your hurt\\nHeartbreak girl\\nHold you tight straight through the daylight\\nI\\'m right here, when you gonna realise\\nThat I\\'m your cure?\\nHeartbreak girl\\n\\n'\n",
            "5-seconds-of-summer-voodoo-doll-lyrics  :  \"\\n\\n[Verse 1: Luke]\\nI don't even like you\\nWhy'd you want to go and make me feel this way? (what?)\\nI don't understand what's happened\\nI keep saying things I never say\\n\\n[Pre-Chorus: Michael]\\nI can feel you watching\\nEven when you're nowhere to be seen\\nI can feel you touching\\nEven when you're far away from me\\n\\n[Chorus: Calum]\\nTell me where you're hiding your voodoo doll\\n'Cause I can't control myself\\nI don't wanna stay, I wanna run away\\nBut I'm trapped under your spell\\nAnd it hurts in my head and my heart and my chest\\nAnd I'm having trouble catching my breath\\nOoh, ooh\\nWon't you please stop loving me to death?\\n\\n[Verse 2: Luke]\\nI don't even see my friends no more\\n'Cause I keep hanging out with you\\nI don't know how you kept me up all night\\nOr how I got this tattoo\\n\\n[Pre-Chorus: Michael]\\nI can feel you watching\\nEven when you're nowhere to be seen\\nAnd I can feel you touching\\nEven when you're far away from me\\n\\n[Chorus: Calum]\\nTell me where you're hiding your voodoo doll\\n'Cause I can't control myself\\nI don't wanna stay, I wanna run away\\nBut I'm trapped under your spell\\nAnd it hurts in my head and my heart and my chest\\nAnd I'm having trouble catching my breath\\nOoh, ooh\\nWon't you please stop loving me to death?\\n\\n[Bridge: Luke]\\nEvery time you're near me\\nSuddenly my heart begins to race\\nEvery time I leave\\nI don't know why my heart begins to break\\n\\n[Chorus: Calum]\\nTell me where you're hiding your voodoo doll\\n'Cause I can't control myself\\nI don't wanna stay, I wanna run away\\nBut I'm trapped under your spell\\nAnd it hurts in my head and my heart and my chest\\nAnd I'm having trouble catching my breath\\nOoh, ooh\\nWon't you please stop loving me to death?\\n\\n\"\n",
            "Adele-sweetest-devotion-lyrics  :  \"\\n\\n[Intro]\\n\\n[Verse 1]\\nWith your loving, there ain't nothing that I can't adore\\nThe way I'm running with you, honey\\nMeans we can break every law\\nI find it funny that you're the only one I never looked for\\nThere is something in your loving that tears down my walls\\n\\n[Pre-Chorus]\\nI wasn't ready then, I'm ready now\\nI'm heading straight for you\\nYou will only be eternally\\nThe one that I belong to\\n\\n[Chorus]\\nThe sweetest devotion\\nHit me like an explosion\\nAll of my life, I've been frozen\\nThe sweetest devotion I know\\n\\n[Verse 2]\\nI'll forever be whatever you want me to be\\nI'll go under and all over for your clarity\\nWhen you wonder if I'm gonna lose my way home\\nJust remember, that come whatever, I'll be yours all along\\n\\n[Pre-Chorus]\\nI wasn't ready then, I'm ready now\\nI'm heading straight for you\\nYou will only be eternally\\nThe one that I belong to\\n\\n[Chorus]\\nThe sweetest devotion\\nHit me like an explosion\\nAll of my life, I've been frozen\\nThe sweetest devotion I know\\n\\n[Bridge]\\nI've been looking for you, baby\\nIn every face that I've ever known\\nAnd there is something 'bout the way you love me\\nThat finally feels like home\\nYou're my light, you're my darkness\\nYou're the right kind of madness\\nYou're my hope, you're my despair\\nYou're my scope of everything, everywhere\\n\\n[Chorus]\\nThe sweetest devotion\\nHit me like an explosion\\nAll of my life, I've been frozen\\nThe sweetest devotion I know\\n\\n[Outro]\\nSweetest, it's the sweetest\\nSweetest, it's the sweetest\\nSweetest, it's the sweetest\\nSweetest, it's the sweetest devotion\\n\\n\"\n",
            "Akon-dont-matter-lyrics  :  \"\\n\\n[Intro]\\nKonvict\\nOh, oh-whoa-oh-oh\\nOh, oh-whoa-oh-oh\\n\\n[Hook]\\nNobody wanna see us together\\nBut it don't matter, no ('Cause I got you, babe)\\nNobody wanna see us together\\nBut it don't matter, no ('Cause I got you, babe)\\n'Cause we gon' fight\\nOh, yes, we gon' fight\\nBelieve we gon' fight\\nFight for our right to love, yeah\\nNobody wanna see us together\\nBut it don't matter, no ('Cause I got you, babe)\\n\\n[Verse 1]\\nNobody wanna see us together\\nNobody thought we'd last forever\\nI feel I'm hopin' and prayin'\\nThings between us gon' get better\\nMen steady comin' after you\\nWomen steady comin' after me\\nSeems like everybody wanna go for self\\nAnd don't wanna respect boundaries\\nTellin' you all those lies\\nJust to get on yo' side\\nBut I must admit there was a couple secrets I held inside\\nJust know that I try to always apologize\\nBut I'ma have you first, always in my heart to keep you satisfied\\n\\n[Hook]\\nNobody wanna see us together\\nBut it don't matter, no ('Cause I got you, babe)\\nNobody wanna see us together\\nBut it don't matter, no ('Cause I got you, babe)\\n'Cause we gon' fight\\nOh, yes, we gon' fight\\nBelieve we gon' fight\\nFight for our right to love, yeah\\nNobody wanna see us together\\nBut it don't matter, no ('Cause I got you, babe)\\n\\n[Verse 2]\\nGot every right to wanna leave\\nGot every right to wanna go\\nGot every right to hit the road\\nAnd never talk to me no mo'\\nYou don't even have to call\\nEven check for me at all\\n'Cause the way I've been actin' lately has been off the wall\\nEspecially towards you\\nPuttin' girls before you\\nAnd they watchin' everything I been doin' just to hurt you\\nMost of it just ain't true\\nAnd they won't show you\\nHow much of a queen you are to me\\nAnd why I love you, baby\\n\\n[Hook]\\nNobody wanna see us together\\nBut it don't matter, no ('Cause I got you, babe)\\nNobody wanna see us together\\nBut it don't matter, no ('Cause I got you, babe)\\n'Cause we gon' fight\\nOh, yes, we gon' fight\\nBelieve we gon' fight\\nFight for our right to love, yeah\\nNobody wanna see us together\\nBut it don't matter, no ('Cause I got you, babe)\\n\\n[Bridge]\\nOh, oh-whoa-oh-oh\\n'Cause I got you, babe\\nOh, oh-whoa-oh-oh\\n'Cause I got you, babe\\n'Cause I got you, babe\\n'Cause I got you, babe\\n\\n[Hook]\\nNobody wanna see us together\\nBut it don't matter, no ('Cause I got you, babe)\\nNobody wanna see us together\\nBut it don't matter, no ('Cause I got you, babe)\\n'Cause we gon' fight\\nOh, yes, we gon' fight\\nBelieve we gon' fight\\nFight for our right to love, yeah\\nNobody wanna see us together\\nBut it don't matter, no ('Cause I got you, babe)\\n\\n\"\n"
          ]
        }
      ],
      "source": [
        "# your code here\n",
        "queryResult = processQuery(queries[1])\n",
        "for result in queryResult:\n",
        "    print(result, \" : \" ,repr(queryResult[result]))"
      ]
    },
    {
      "cell_type": "markdown",
      "metadata": {
        "id": "y8KlaH0fMTO5"
      },
      "source": [
        "Now show the results for the query: `make AND sense`"
      ]
    },
    {
      "cell_type": "code",
      "execution_count": 11,
      "metadata": {
        "id": "MAFBtPGmMVRW"
      },
      "outputs": [
        {
          "name": "stdout",
          "output_type": "stream",
          "text": [
            "Total Time required to process query: 0.0000\n",
            "Genius-how-to-annotate-and-edit-on-genius-annotated  :  '\\n\\n✧ A Genius annotation is a note that explains the deeper meaning behind lyrics. There are a few different kinds of annotations:\\n\\n\\nLyric Annotations -> Click here for an example\\n\\n\\nBios -> Click here for an example\\n\\n\\nCover Art Annotations -> Click here for an example\\n\\nYou can also contribute to existing annotations:\\n\\n\\nSuggestions -> Click here for an example\\n\\n\\nProposed Edits -> Click here for an example\\n\\n✧ Here are the rules you should always follow when annotating:\\n\\n\\nDon\\'t Restate The Lyric -> Click here to learn more\\n\\n\\nWrite Like A Human -> Click here to learn more\\n\\n\\nWatch Grammar & Spelling -> Click here to learn more\\n\\n\\nDo Research & Hyperlink Sources -> Click here to learn more\\n\\n\\nHighlight All Relevant Lyrics -> Click here to learn more\\n\\n\\nMaster Formatting -> Click here to learn more\\n\\n\\nInclude Media That Adds Depth -> Click here to learn more\\n\\n\\nBe Objective -> Click here to learn more\\n\\n\\nBe Concise & Specific -> Click here to learn more\\n\\n\\nBe Evergreen -> Click here to learn more\\n\\n✧ Here are some more nuanced practices you can follow to make sure your annotations are always great:\\n\\nUse The Active Voice: Sentences in the active voice are structured so the subject performs the action stated by the verb. Active voice is generally easier to understand. -> Click here to learn more\\n\\nUse Primary Sources: Wikipedia and other encyclopedic sources are great places to learn, but shouldn\\'t be hyperlinked in annotations unless it\\'s absolutely necessary.  Never link Urban Dictionary. -> Click here to learn more\\n\\nOrder By Importance: The most important information should go at the beginning of the annotation. Save images, GIFs, and videos for the middle or the end, and never start an annotation with a quote. -> Click here to learn more\\n\\nAvoid Hiding Info Behind Links: Don\\'t force your readers to go hunting for the sauce. Sauce it up in the annotation and allow your links to complement what you wrote. -> Click here to learn more\\n\\nOnly Quote The Best Stuff: Quote what artists have said, not what others have written about them. Cut quotes to the parts that make the most sense for your annotation. -> Click here to learn more\\n\\nLine-Level vs. Song-Level: Info pertinent to specific lyrics should go in annotations on the relevant lines, and info about the entire song should go in the song bio or Q&A. Annotations on section headers are only rarely appropriate. -> Click here to learn more\\nEditors use the Annotation Commandments to decide whether an annotation should be accepted and edited to become an official \"Genius annotation,\" or rejected if it doesn\\'t match our editorial standards. Click here to learn about earning the Editor role.\\n\\n✧ Here are the basics of editing:\\n\\nAccepting & Editing: You have to accept an annotation first before you edit it. Edits can range from fixing typos to overhauling the whole thing, but the goal is to make improvements. You\\'ll get contribution credit based on how much of the annotation you change. -> Click here to learn more\\n\\nRejecting: To reject an annotation, you have to select one of three main reasons: \"Restating the Line,\" \"It\\'s a Stretch,\" or \"Missing Something.\" Selecting \"Other\" requires you to leave a note briefly explaining your rejection. -> Click here to learn more\\n\\nIntegrating & Archiving: You can integrate or archive suggestions and proposed edits that other users leave on annotations. Integrating brings the user\\'s suggestion into the annotation and gives them contribution credit based on how much of the annotation they change. Archiving removes the suggestion from the annotation. -> Click here to learn more\\n\\nDeleting: It\\'s sometimes necessary to delete annotations previously accepted by other editors if they\\'re not up to standard. You\\'ll also need to delete annotations if you\\'re accepting and deleting a lyric correction annotation. -> Click here to learn more\\n\\nChanging the Referent: Click the \"Edit Lyrics\" button and copy-paste the corresponding annotation ID to change the referent. Changing the referent can ensure the annotation covers all repeated lyrics, or covers adjacent lines that closely relate to the annotation\\'s main idea. -> Click here to learn more\\n✧ Here are some more complicated tools and tricks for editors:\\n\\nMerging Annotations: To merge two annotations, copy the contents of the first annotation, integrate the info you copied into the second annotation, delete the first annotation, and adjust the referent. -> Click here to learn more\\n\\nResearch Methods: The citations at the bottom of Wikipedia articles and Google Books samples are goldmines. Replace boring links and lackluster sentiments with relevant and unique info that enhances the annotation.  -> Click here to learn more\\n\\nFact-Checking & Avoiding Bias: Be conscious about problematic lyrics or sensitive information. If an annotation states something definitively that hasn\\'t yet been confirmed, tweak the language to be accurate, objective, and analytical. -> Click here to learn more\\n\\nRefining Language: No matter how well-written an annotation is, it can always be improved. Brush up on your grammar skills and be meticulous about word choice, structure, organization, and expression. -> Click here to learn more\\n\\nPushing the Boundaries: There are fringe scenarios where unorthodox annotation styles work, and that\\'s how annotation culture evolves. Don\\'t be afraid to experiment, as long as you\\'re saying something interesting and don\\'t violate the editorial standards. -> Click here to learn more\\n✧ Tate Talks are forum posts about annotation culture. They act both as resources and as centers of discussion for specific elements of annotating & editing. If you\\'re interested in writing a Tate Talk, send @Empath a message. The best Tate Talks will be featured below and credited to the author.\\n\\n\\nResearch & Interpretation by @JohnGanz\\n\\n\\nStyle Guide by @nietzsche\\n\\n\\nRemoving Filler by @Dyazz\\n\\n\\nCiting the Bible by @CalebMac116\\n\\n\\nMastering Linked Citation by @scopeyclaire\\n\\n\\nConnections To Other Works by @VinylZombie_MCR\\n\\n\\nUpdating Old Annotations by @theonlydjorkaeff\\n\\n\\nQuote Etiquette by @sereinik\\n\\n\\nSong Bio Best Practices by @babuc\\n\\n\\nStructuring Annotations by @theonlydjorkaeff\\n\\n\\nAnnotating Problematic Lyrics by @epaulettes\\n\\n\\nFact-Checking & Avoiding Bias by @Empath\\n\\n\\nContextualizing by @Vesuvius\\n\\n\\nAnnotating Multiple Language Songs by @roy068\\n\\n\\nRefining Language by @Empath\\n\\n\\nAnnotating Artwork by @FGV & @Pessoa\\n\\n✧ Here are some quick definitions for terms related to annotating & editing on Genius:\\n\\nTate\\nEditorial Standards\\nReferent\\nAnnotation ID\\nRed\\nScholars\\nIntegrate\\nArchive\\nRevert\\nReference\\nAllusion\\nSample\\nInterpolation\\n\\n\\n'\n",
            "Gorillaz-kids-with-guns-lyrics  :  \"\\n\\n[Verse 1]\\nKids with guns\\nKids with guns\\nTaking over\\nBut they won't be long\\nThey're mesmerized\\nSkeletons\\n\\n[Refrain 1]\\nKids with guns\\nKids with guns\\nEasy does it, easy does it\\nThey got something to say no to\\n\\n[Verse 2]\\nDrinking out (Push it real)\\nPacifier (Push it real, push it)\\nVitamin souls (Push it, push it real)\\nThe street desire (Push it real, push it)\\nDoesn't make sense to (Push it, push it real)\\nBut it won't be long (Push it real, push it)\\n\\n[Refrain 2]\\nKids with guns\\nKids with guns\\nEasy does it, easy does it\\nThey got something to say no to\\n\\n[Chorus]\\nNow they're turning us into monsters\\nTurning us into fire\\nTurning us into monsters\\nIt's all desire, it's all desire\\nIt's all desire\\n\\n[Verse 3]\\nDrinking out\\nPacifier\\nSinking soul\\nThere you are\\nDoesn't make side to\\nBut it won't be long\\n\\n[Refrain 2]\\n‘Cause kids with guns\\nKids with guns\\nEasy does it, easy does it\\nThey got something to say no to\\n\\n[Chorus]\\nNow they're turning us into monsters\\nTurning us into fire\\nTurning us into monsters\\nIt's all desire, it's all desire\\nIt's all desire\\n\\n[Outro]\\nPush it, push it, real, push it, real\\nPush it, push it, push it, real, push it, real\\nPush it, push it, real\\n\\n\"\n",
            "Purity-ring-belispeak-ii-lyrics  :  \"\\n\\n[Intro: Danny Brown]\\nCheck!\\n\\n[Chorus: Megan James]\\nGrandma, the water is rising\\nMy boundless hair has gotten green\\nI'll be your swimming forest island\\nBid you walk safely, safely over me\\n\\n[Verse 1: Danny Brown]\\nRaised in the gutter, I ain't really had nothin'\\nNo silver spoon, I was raised a rusty shovel\\nGranny used to tell me boy stay up outta trouble\\nBut the hunger in my tummy had me stayin' on my hustle\\nWhen I'm livin' in a bottle with my head all cloudy\\nStomach rumbling like a thunderstorm up in Maui\\nPray over me and I'm hoping that I make it\\nLike a last dollar in a slot machine in Las Vegas\\nNeed good luck, stay trusting my gut\\nIf they can't hold me down, then you hold me up\\nTrapped in the lies then, nobody I could trust\\nI'd give it all away before I give it all up\\nNow tell me have you ever ever ever in your life\\nHear something wrong and you know it wasn't right\\nNow you're up late night thinking that night\\nAll along sorry, know it wasn't right\\nSame sense again, tell me would you think twice\\nI did that yesterday, put it on my life\\nOnce a day passed, would a feelin' never last\\nWhile I flick away my problems with the cigarette ash\\nStayin' up late, I could never ever sleep\\nFeelin' all my hunger every time my belly speak\\nStayin' up late, I could never ever sleep\\nFeelin' all my hunger every time my belly speak\\n\\n[Chorus: Megan James]\\nGrandma, the water is rising\\nMy boundless hair has gotten green\\nI'll be your swimming forest island\\nBid you walk safely, safely over me\\n\\n[Verse 2: Megan James & Danny Brown]\\nGrandma my sleep is narrow\\nBid you bring me some strong drink\\nStrain out the pulps and set them close outside\\nFor when my belly\\nFor when my little belly speaks\\nGrandma, there's air beneath my bed\\nAnd it whispers\\nAnd it whispers when I rest\\nBid hem the skirts in salt and vinegar, vinegar\\nAnd hover closely\\nHover closely under head\\nStayin' up late, I could never ever sleep\\nFeelin' all my hunger every time my belly speak\\nStayin' up late, I could never ever sleep\\nFeelin' all my hunger every time my belly speak\\nGrandma, I've been unruly\\nIn my dreams\\nAnd with my speech\\nDrill little holes into my eyelids\\nThat I might see you\\n\\n[Chorus: Megan James]\\nGrandma, the water is rising\\nMy boundless hair has gotten green\\nI'll be your swimming forest island\\nBid you walk safely, safely over me\\n\\n\"\n",
            "Tame-impala-music-to-walk-home-by-lyrics  :  \"\\n\\n[Verse]\\nBut that's only while I think of you\\nSome vision that I hold on to\\nYou know it's everything I do\\nYou know it's everything I do\\n\\nCan almost stand competing with the others\\nCan almost hear the fun that I should be having\\nInstead of just dreaming\\n\\nBut it's only when I think of you\\nThe mover I could turn into\\nThere must be something I can do\\nYeah, there must be something I can do\\n\\n[Chorus]\\nI just don't know how to feel right\\nA beautiful girl is wasting my life\\nI'm playing a part as somebody else\\nWhile tryin' so hard to be myself\\nI just need to hear somebody say\\nThis will all make sense one day\\nI guess I'm alright, but they're all doing so well\\nWhat I wouldn't give to be under that spell\\n\\n[Post-Chorus]\\nYou'll know soon\\nYou'll know soon\\nYou'll know soon\\nYou'll know soon\\nYou'll know soon (Yeah)\\nYou'll know soon (Yeah)\\nYou'll know soon (Yeah)\\n(Yeah, yeah, yeah)\\n(Yeah, yeah, yeah)\\n\\n[Bridge]\\nBut you don't know the truth\\nI really love you\\nYou just don't believe\\nAnything I do\\n\\n[Chorus]\\nIn so many ways I'm somebody else\\nWhile tryin' so hard to be myself\\nI just need to hear somebody say\\nThis will all make sense one day\\nWell, it's getting late I'd better go\\nI made it this far as far as I know\\n\\n\"\n"
          ]
        }
      ],
      "source": [
        "# your code here\n",
        "queryResult = processQuery(queries[2])\n",
        "for result in queryResult:\n",
        "    print(result, \" : \" ,repr(queryResult[result]))"
      ]
    },
    {
      "cell_type": "markdown",
      "metadata": {
        "id": "8MVcjjsBWIFv"
      },
      "source": [
        "Now show the results for the query: `make AND sense AND NOT kid`"
      ]
    },
    {
      "cell_type": "code",
      "execution_count": 12,
      "metadata": {
        "id": "3e7Ipk2JWIF5"
      },
      "outputs": [
        {
          "name": "stdout",
          "output_type": "stream",
          "text": [
            "Total Time required to process query: 0.0001\n",
            "Genius-how-to-annotate-and-edit-on-genius-annotated  :  '\\n\\n✧ A Genius annotation is a note that explains the deeper meaning behind lyrics. There are a few different kinds of annotations:\\n\\n\\nLyric Annotations -> Click here for an example\\n\\n\\nBios -> Click here for an example\\n\\n\\nCover Art Annotations -> Click here for an example\\n\\nYou can also contribute to existing annotations:\\n\\n\\nSuggestions -> Click here for an example\\n\\n\\nProposed Edits -> Click here for an example\\n\\n✧ Here are the rules you should always follow when annotating:\\n\\n\\nDon\\'t Restate The Lyric -> Click here to learn more\\n\\n\\nWrite Like A Human -> Click here to learn more\\n\\n\\nWatch Grammar & Spelling -> Click here to learn more\\n\\n\\nDo Research & Hyperlink Sources -> Click here to learn more\\n\\n\\nHighlight All Relevant Lyrics -> Click here to learn more\\n\\n\\nMaster Formatting -> Click here to learn more\\n\\n\\nInclude Media That Adds Depth -> Click here to learn more\\n\\n\\nBe Objective -> Click here to learn more\\n\\n\\nBe Concise & Specific -> Click here to learn more\\n\\n\\nBe Evergreen -> Click here to learn more\\n\\n✧ Here are some more nuanced practices you can follow to make sure your annotations are always great:\\n\\nUse The Active Voice: Sentences in the active voice are structured so the subject performs the action stated by the verb. Active voice is generally easier to understand. -> Click here to learn more\\n\\nUse Primary Sources: Wikipedia and other encyclopedic sources are great places to learn, but shouldn\\'t be hyperlinked in annotations unless it\\'s absolutely necessary.  Never link Urban Dictionary. -> Click here to learn more\\n\\nOrder By Importance: The most important information should go at the beginning of the annotation. Save images, GIFs, and videos for the middle or the end, and never start an annotation with a quote. -> Click here to learn more\\n\\nAvoid Hiding Info Behind Links: Don\\'t force your readers to go hunting for the sauce. Sauce it up in the annotation and allow your links to complement what you wrote. -> Click here to learn more\\n\\nOnly Quote The Best Stuff: Quote what artists have said, not what others have written about them. Cut quotes to the parts that make the most sense for your annotation. -> Click here to learn more\\n\\nLine-Level vs. Song-Level: Info pertinent to specific lyrics should go in annotations on the relevant lines, and info about the entire song should go in the song bio or Q&A. Annotations on section headers are only rarely appropriate. -> Click here to learn more\\nEditors use the Annotation Commandments to decide whether an annotation should be accepted and edited to become an official \"Genius annotation,\" or rejected if it doesn\\'t match our editorial standards. Click here to learn about earning the Editor role.\\n\\n✧ Here are the basics of editing:\\n\\nAccepting & Editing: You have to accept an annotation first before you edit it. Edits can range from fixing typos to overhauling the whole thing, but the goal is to make improvements. You\\'ll get contribution credit based on how much of the annotation you change. -> Click here to learn more\\n\\nRejecting: To reject an annotation, you have to select one of three main reasons: \"Restating the Line,\" \"It\\'s a Stretch,\" or \"Missing Something.\" Selecting \"Other\" requires you to leave a note briefly explaining your rejection. -> Click here to learn more\\n\\nIntegrating & Archiving: You can integrate or archive suggestions and proposed edits that other users leave on annotations. Integrating brings the user\\'s suggestion into the annotation and gives them contribution credit based on how much of the annotation they change. Archiving removes the suggestion from the annotation. -> Click here to learn more\\n\\nDeleting: It\\'s sometimes necessary to delete annotations previously accepted by other editors if they\\'re not up to standard. You\\'ll also need to delete annotations if you\\'re accepting and deleting a lyric correction annotation. -> Click here to learn more\\n\\nChanging the Referent: Click the \"Edit Lyrics\" button and copy-paste the corresponding annotation ID to change the referent. Changing the referent can ensure the annotation covers all repeated lyrics, or covers adjacent lines that closely relate to the annotation\\'s main idea. -> Click here to learn more\\n✧ Here are some more complicated tools and tricks for editors:\\n\\nMerging Annotations: To merge two annotations, copy the contents of the first annotation, integrate the info you copied into the second annotation, delete the first annotation, and adjust the referent. -> Click here to learn more\\n\\nResearch Methods: The citations at the bottom of Wikipedia articles and Google Books samples are goldmines. Replace boring links and lackluster sentiments with relevant and unique info that enhances the annotation.  -> Click here to learn more\\n\\nFact-Checking & Avoiding Bias: Be conscious about problematic lyrics or sensitive information. If an annotation states something definitively that hasn\\'t yet been confirmed, tweak the language to be accurate, objective, and analytical. -> Click here to learn more\\n\\nRefining Language: No matter how well-written an annotation is, it can always be improved. Brush up on your grammar skills and be meticulous about word choice, structure, organization, and expression. -> Click here to learn more\\n\\nPushing the Boundaries: There are fringe scenarios where unorthodox annotation styles work, and that\\'s how annotation culture evolves. Don\\'t be afraid to experiment, as long as you\\'re saying something interesting and don\\'t violate the editorial standards. -> Click here to learn more\\n✧ Tate Talks are forum posts about annotation culture. They act both as resources and as centers of discussion for specific elements of annotating & editing. If you\\'re interested in writing a Tate Talk, send @Empath a message. The best Tate Talks will be featured below and credited to the author.\\n\\n\\nResearch & Interpretation by @JohnGanz\\n\\n\\nStyle Guide by @nietzsche\\n\\n\\nRemoving Filler by @Dyazz\\n\\n\\nCiting the Bible by @CalebMac116\\n\\n\\nMastering Linked Citation by @scopeyclaire\\n\\n\\nConnections To Other Works by @VinylZombie_MCR\\n\\n\\nUpdating Old Annotations by @theonlydjorkaeff\\n\\n\\nQuote Etiquette by @sereinik\\n\\n\\nSong Bio Best Practices by @babuc\\n\\n\\nStructuring Annotations by @theonlydjorkaeff\\n\\n\\nAnnotating Problematic Lyrics by @epaulettes\\n\\n\\nFact-Checking & Avoiding Bias by @Empath\\n\\n\\nContextualizing by @Vesuvius\\n\\n\\nAnnotating Multiple Language Songs by @roy068\\n\\n\\nRefining Language by @Empath\\n\\n\\nAnnotating Artwork by @FGV & @Pessoa\\n\\n✧ Here are some quick definitions for terms related to annotating & editing on Genius:\\n\\nTate\\nEditorial Standards\\nReferent\\nAnnotation ID\\nRed\\nScholars\\nIntegrate\\nArchive\\nRevert\\nReference\\nAllusion\\nSample\\nInterpolation\\n\\n\\n'\n",
            "Gorillaz-kids-with-guns-lyrics  :  \"\\n\\n[Verse 1]\\nKids with guns\\nKids with guns\\nTaking over\\nBut they won't be long\\nThey're mesmerized\\nSkeletons\\n\\n[Refrain 1]\\nKids with guns\\nKids with guns\\nEasy does it, easy does it\\nThey got something to say no to\\n\\n[Verse 2]\\nDrinking out (Push it real)\\nPacifier (Push it real, push it)\\nVitamin souls (Push it, push it real)\\nThe street desire (Push it real, push it)\\nDoesn't make sense to (Push it, push it real)\\nBut it won't be long (Push it real, push it)\\n\\n[Refrain 2]\\nKids with guns\\nKids with guns\\nEasy does it, easy does it\\nThey got something to say no to\\n\\n[Chorus]\\nNow they're turning us into monsters\\nTurning us into fire\\nTurning us into monsters\\nIt's all desire, it's all desire\\nIt's all desire\\n\\n[Verse 3]\\nDrinking out\\nPacifier\\nSinking soul\\nThere you are\\nDoesn't make side to\\nBut it won't be long\\n\\n[Refrain 2]\\n‘Cause kids with guns\\nKids with guns\\nEasy does it, easy does it\\nThey got something to say no to\\n\\n[Chorus]\\nNow they're turning us into monsters\\nTurning us into fire\\nTurning us into monsters\\nIt's all desire, it's all desire\\nIt's all desire\\n\\n[Outro]\\nPush it, push it, real, push it, real\\nPush it, push it, push it, real, push it, real\\nPush it, push it, real\\n\\n\"\n",
            "Purity-ring-belispeak-ii-lyrics  :  \"\\n\\n[Intro: Danny Brown]\\nCheck!\\n\\n[Chorus: Megan James]\\nGrandma, the water is rising\\nMy boundless hair has gotten green\\nI'll be your swimming forest island\\nBid you walk safely, safely over me\\n\\n[Verse 1: Danny Brown]\\nRaised in the gutter, I ain't really had nothin'\\nNo silver spoon, I was raised a rusty shovel\\nGranny used to tell me boy stay up outta trouble\\nBut the hunger in my tummy had me stayin' on my hustle\\nWhen I'm livin' in a bottle with my head all cloudy\\nStomach rumbling like a thunderstorm up in Maui\\nPray over me and I'm hoping that I make it\\nLike a last dollar in a slot machine in Las Vegas\\nNeed good luck, stay trusting my gut\\nIf they can't hold me down, then you hold me up\\nTrapped in the lies then, nobody I could trust\\nI'd give it all away before I give it all up\\nNow tell me have you ever ever ever in your life\\nHear something wrong and you know it wasn't right\\nNow you're up late night thinking that night\\nAll along sorry, know it wasn't right\\nSame sense again, tell me would you think twice\\nI did that yesterday, put it on my life\\nOnce a day passed, would a feelin' never last\\nWhile I flick away my problems with the cigarette ash\\nStayin' up late, I could never ever sleep\\nFeelin' all my hunger every time my belly speak\\nStayin' up late, I could never ever sleep\\nFeelin' all my hunger every time my belly speak\\n\\n[Chorus: Megan James]\\nGrandma, the water is rising\\nMy boundless hair has gotten green\\nI'll be your swimming forest island\\nBid you walk safely, safely over me\\n\\n[Verse 2: Megan James & Danny Brown]\\nGrandma my sleep is narrow\\nBid you bring me some strong drink\\nStrain out the pulps and set them close outside\\nFor when my belly\\nFor when my little belly speaks\\nGrandma, there's air beneath my bed\\nAnd it whispers\\nAnd it whispers when I rest\\nBid hem the skirts in salt and vinegar, vinegar\\nAnd hover closely\\nHover closely under head\\nStayin' up late, I could never ever sleep\\nFeelin' all my hunger every time my belly speak\\nStayin' up late, I could never ever sleep\\nFeelin' all my hunger every time my belly speak\\nGrandma, I've been unruly\\nIn my dreams\\nAnd with my speech\\nDrill little holes into my eyelids\\nThat I might see you\\n\\n[Chorus: Megan James]\\nGrandma, the water is rising\\nMy boundless hair has gotten green\\nI'll be your swimming forest island\\nBid you walk safely, safely over me\\n\\n\"\n",
            "Tame-impala-music-to-walk-home-by-lyrics  :  \"\\n\\n[Verse]\\nBut that's only while I think of you\\nSome vision that I hold on to\\nYou know it's everything I do\\nYou know it's everything I do\\n\\nCan almost stand competing with the others\\nCan almost hear the fun that I should be having\\nInstead of just dreaming\\n\\nBut it's only when I think of you\\nThe mover I could turn into\\nThere must be something I can do\\nYeah, there must be something I can do\\n\\n[Chorus]\\nI just don't know how to feel right\\nA beautiful girl is wasting my life\\nI'm playing a part as somebody else\\nWhile tryin' so hard to be myself\\nI just need to hear somebody say\\nThis will all make sense one day\\nI guess I'm alright, but they're all doing so well\\nWhat I wouldn't give to be under that spell\\n\\n[Post-Chorus]\\nYou'll know soon\\nYou'll know soon\\nYou'll know soon\\nYou'll know soon\\nYou'll know soon (Yeah)\\nYou'll know soon (Yeah)\\nYou'll know soon (Yeah)\\n(Yeah, yeah, yeah)\\n(Yeah, yeah, yeah)\\n\\n[Bridge]\\nBut you don't know the truth\\nI really love you\\nYou just don't believe\\nAnything I do\\n\\n[Chorus]\\nIn so many ways I'm somebody else\\nWhile tryin' so hard to be myself\\nI just need to hear somebody say\\nThis will all make sense one day\\nWell, it's getting late I'd better go\\nI made it this far as far as I know\\n\\n\"\n"
          ]
        }
      ],
      "source": [
        "# your code here\n",
        "queryResult = processQuery(queries[3])\n",
        "for result in queryResult:\n",
        "    print(result, \" : \" ,repr(queryResult[result]))"
      ]
    },
    {
      "cell_type": "markdown",
      "metadata": {
        "id": "NQ0sd8zrWIbb"
      },
      "source": [
        "Now show the results for the query: `never OR know`"
      ]
    },
    {
      "cell_type": "code",
      "execution_count": 13,
      "metadata": {
        "id": "g2BumYswWIbc"
      },
      "outputs": [
        {
          "name": "stdout",
          "output_type": "stream",
          "text": [
            "Total Time required to process query: 0.0011\n",
            "2pac-when-ure-hero-falls-4-my-hero-my-mother-annotated  :  \"\\n\\nWhen your hero falls from grace\\nall fairy tales R uncovered\\nmyths exposed and pain magnified\\nthe greatest pain discovered\\nu taught me 2 be strong\\nbut I'm confused 2 c u so weak\\nu said never 2 give up\\nand it hurts 2 c u welcome defeat\\nwhen ure Hero falls so do the stars\\nand so does the perception of tomorrow\\nwithout my Hero there is only\\nme alone 2 deal with my sorrow.\\nyour Heart ceases 2 work\\nand your soul is is not happy at all\\nwhat R u expected 2 do\\nwhen ure only Hero falls\\n\\n\"\n",
            "5-seconds-of-summer-broken-pieces-lyrics  :  \"\\n\\n[Verse 1: Calum]\\nI woke up in the place we started\\nYour clothes on the floor in that old apartment\\nI never thought you'd leave without a trace\\nI can't shake this sinking feeling\\nI know you're not there and I'm barely breathing\\nHolding onto things I can't replace\\n\\n[Pre-Chorus: Calum]\\nI'm looking for a way to change my mind and walk away\\n\\n[Chorus: All]\\nOh, tell me what we're fighting for\\nIt's turning to an all-out war\\nI'll find a way to fix these broken pieces\\nAnd let go\\nI'm tryna find a way back home\\nIf it takes until I'm skin and bones\\nI'll find a way to fix these broken pieces\\nAnd let go\\n\\n[Verse 2: Luke & Michael]\\nOur last words ringing in my head\\nI wish we'd take back all the things we said\\nI'm tryna find a way to yesterday\\nTalking in circles and chasing our tails\\nAnd wondering why we created this wasteland\\nI wish you wouldn't be so cavalier\\n\\n[Pre-Chorus: Luke]\\nI'm looking for a way to change my mind and walk away\\n\\n[Chorus: All]\\nOh, tell me what we're fighting for\\nIt's turning to an all-out war\\nI'll find a way to fix these broken pieces\\nAnd let go\\nI'm tryna find a way back home\\nIf it takes until I'm skin and bones\\nI'll find a way to fix these broken pieces\\nAnd let go, let go, let go\\nFix these broken pieces and let go\\n\\n[Bridge: Michael & Ashton]\\nWe're fading out, we're all alone\\nIt's what you wanted, I suppose\\nI can tell you feel the same\\nWhen you say you're looking for a way to change your mind and walk away\\nOh, tell me what we're fighting for\\nIt's turning to an all-out war\\nWe'll find a way to fix these broken pieces\\n\\n[Chorus: All]\\nOh, tell me what we're fighting for\\nIt's turning to an all-out war\\nI'll find a way to fix these broken pieces\\nAnd let go\\nI'm tryna find a way back home\\nIf it takes until I'm skin and bones\\nI'll find a way to fix these broken pieces\\nAnd let go, let go, let go\\nFix these broken pieces and let go\\n\\n\"\n",
            "5-seconds-of-summer-castaway-lyrics  :  \"\\n\\n[Verse 1: Luke]\\nYoung love, close the chapter\\nThere's no ever after\\nFell fast, ended faster, yeah\\nLate night conversations\\nLed to complications\\nNow my heart is in my hands\\n\\n[Pre-Chorus: Luke]\\n'Cause you walked out and left me stranded\\nNothing left but picture frames\\nAnd I just keep on asking myself\\n\\n[Chorus: All]\\nHow'd we drift so far away\\nFrom where we left off yesterday?\\nI'm lonely like a castaway\\nHeartbreak that I can't escape\\nA sinking ship I'll never save\\nI'm lonely like a castaway\\n\\n[Verse 2: Michael]\\nAll your screaming whispers\\nSlip right through my fingers\\nBut these memories linger on\\nEyes closed, all I see is\\nGood times disappearing\\nAnd I'm trying to hold on\\n\\n[Pre-Chorus: Michael]\\n'Cause you walked out and left me stranded\\nNothing left but picture frames\\nI just keep on asking myself\\n\\n[Chorus: All]\\nHow'd we drift so far away\\nFrom where we left off yesterday?\\nI'm lonely like a castaway\\nHeartbreak that I can't escape\\nA sinking ship I'll never save\\nI'm lonely like a castaway\\n\\n(Castaway\\nCastaway)\\n\\n[Bridge: Luke]\\nHow'd we drift so far away\\nFrom where we left off yesterday?\\nI'm lonely like a castaway\\n\\n[Chorus: All & Luke]\\nHow'd we drift so far away\\nFrom where we left off yesterday?\\nI'm lonely like a castaway\\nHeartbreak that I can't escape\\nA sinking ship I'll never save\\nI'm lonely like a castaway\\nCastaway\\nCastaway\\n\\n\"\n",
            "5-seconds-of-summer-dont-stop-lyrics  :  \"\\n\\n[Verse 1: Luke]\\nYou're like perfection, some kind of holiday\\nYou got me thinking that we could run away\\nYou want, I’ll take you there\\nYou tell me when and where, oh-oh, oh, oh\\n\\n[Pre-Chorus: Luke]\\nBut then I asked for your number, said you don’t have a phone\\nIt’s getting late now, I gotta let you know\\nThat everybody wants to take you home tonight\\nBut I’m gonna find a way to make you mine\\n\\n[Chorus: All]\\nDon’t stop doing what you’re doing\\nEvery time you move to the beat\\nIt gets harder for me\\nAnd you know it, know it, know it\\nAnd don’t stop 'cause you know that I like it\\nEvery time you walk in the room\\nYou got all eyes on you\\nAnd you know it, know it, know it\\n\\n[Verse 2: Calum]\\nYou're coming close now, swear I can taste it\\nYou got me tongue-tied, I can't escape it\\nI’m loving what you got\\nBut then you push me off, oh-oh, oh, oh\\n\\n[Pre-Chorus: Calum]\\nAnd everybody wants to take you home tonight\\nBut I’m gonna find a way to make you mine\\n\\n[Chorus: All]\\nDon’t stop doing what you’re doing\\nEvery time you move to the beat\\nIt gets harder for me\\nAnd you know it, know it, know it\\nAnd don’t stop 'cause you know that I like it\\nEvery time you walk in the room\\nYou got all eyes on you\\nAnd you know it, know it, know it\\n\\n[Bridge: Michael & Luke]\\nEvery day it’s the same\\nAll the games that you play\\nBack and forth, round and round\\nKinda like it this way\\nDon’t stop doing what you’re doing\\n'Cause everytime you move to the beat\\nIt gets harder for me\\nAnd you know it, know it, know it\\n\\n[Chorus: All & Ashton & Michael]\\nDon’t stop 'cause you know that I like it\\nEvery time you walk in the room\\nYou got all eyes on you\\nAnd you know it, know it, know it, know it\\nDon’t stop\\nDon’t stop, stop what you’re doing\\nDoing what you're doing\\n'Cause you know that, you know that I like it\\nEverytime you move to the beat\\nIt gets harder for me\\nAnd you know it, know it, know it\\nAnd don’t stop 'cause you know that I like it\\nYou know that I like it\\nEvery time you walk in the room\\nYou got all eyes on you\\nAnd you know it, know it, know it\\n\\n\"\n",
            "5-seconds-of-summer-everything-i-didnt-say-lyrics  :  \"\\n\\n[Intro: Calum]\\nOh, oh, oh, oh, oh, oh\\nOh, oh, oh, oh, oh\\nOh, oh, oh, oh, oh, oh, oh\\nThis is everything I didn't say\\n\\n[Verse 1: Calum]\\nWait, don’t tell me Heaven is a place on earth\\nI wish I could rewind all the times that I didn’t show you what you’re really worth\\nThe way you held me, I wish that I had put you first\\nI was wrong I admit, numb from your kiss\\nWhile you were slipping through my fingertips\\n\\n[Chorus: All & Calum]\\nTaking every breath away\\nWith all of the mistakes I’ve made\\nFrom all the letters that I’ve saved\\nThis is everything I didn’t say\\nI wish I could’ve made you stay\\nAnd I’m the only one to blame\\nI know that it’s a little too late\\nThis is everything I didn’t say\\nOh, oh, oh, oh, oh, oh\\nOh, oh, oh, oh, oh, oh\\nThis is everything I didn’t say\\n\\n[Verse 2: Luke]\\nWake me up now and tell me this is all a bad dream\\nAll the songs that I wrote\\nAll the wrongs that I hoped\\nWould erase from your memory\\nHolding onto a broken and empty heart\\nFlowers I should’ve bought\\nAll the hours I lost\\nWish I could bring it back to the start\\n\\n[Chorus: All & Calum]\\nTaking every breath away\\nWith all of the mistakes I’ve made\\nFrom all the letters that I’ve saved\\nThis is everything I didn't say\\nI wish I could make you stay\\nAnd I'm the only one to blame\\nI know that it's a little to late\\nThis is everything I didn't say\\n\\n[Bridge: Michael]\\nI hope you know for you I’d sacrifice\\nTo make this right\\nWoah, oh, oh\\nWoah, oh, oh\\nSome day I’m sure we’ll pass each other by\\nUntil that time\\n\\n[Chorus: All & Calum]\\nTaking every breath away\\nWith all of the mistakes I’ve made\\nFrom all the letters that I’ve saved\\nThis is everything I didn’t say\\nI wish I could’ve made you stay\\nAnd I’m the only one to blame\\nI know that it’s a little too late\\nThis is everything I didn’t say\\nOh, oh, oh, oh, oh, oh\\nOh, oh, oh, oh, oh\\nOh, oh, oh, oh, oh, oh, oh\\nThis is everything I didn't say\\nOh, oh, oh, oh, oh, oh\\nOh, oh, oh, oh, oh\\nOh, oh, oh, oh, oh, oh, oh\\n\\n\"\n"
          ]
        }
      ],
      "source": [
        "# your code here\n",
        "queryResult = processQuery(queries[4])\n",
        "for result in queryResult:\n",
        "    print(result, \" : \" ,repr(queryResult[result]))"
      ]
    },
    {
      "cell_type": "markdown",
      "metadata": {
        "id": "IAhHuIDfN-Jp"
      },
      "source": [
        "## Observations (10 points)\n",
        "Does your boolean search engine find relevant documents for these queries? As in, would our customers be happy if we shipped this retrieval engine? Why or why not?\n",
        "\n",
        "What is the impact of the pre-processing options? Do they impact your search quality?"
      ]
    },
    {
      "cell_type": "markdown",
      "metadata": {
        "id": "UX6k-Vil0GIy"
      },
      "source": [
        "*your discussion here*\n",
        "\n",
        "1. Text Preprocessing: The preprocessing steps removes a lot of characters like digits and punctuation which can contain signficant information. Some digits might indicate year, which can be a significant token in the songs' lyrics.\n",
        "2. Phrase queries: The algorithm has no support for phrase queries. It searchs whether the term exists in the document and returns the final list. The terms in the query might be the first and the last token in the document, and the algorithm still returns the result. Hence, the ordering information is lost in the process.\n",
        "3. Ranking: The final results returned by the algorithm are sorted in ascending order lexicographically. The order is independent of the relavance of the documents with the queries.\n",
        "4. Tolerance: The system has no tolenrance with respect to the terms. The spelling of all the terms in the query should match the tokens after preprocessing. \n",
        "5. Weights: The statistical nature of the tokens is ignored. Term frequency or document frequency is not considered in the calculations of the final result.\n"
      ]
    },
    {
      "cell_type": "markdown",
      "metadata": {
        "id": "LYce9oRO6sbl"
      },
      "source": [
        "# Part 3: Cool Extension (10 points)\n",
        "\n",
        "Finally, we give you an opportunity to explore some more sophisticated approach to your search engine. This is your chance to show off something you find interesting. For example, you might:\n",
        "\n",
        "\n",
        "*   Add a positional index so you can support phrase queries\n",
        "*   Implement a permuterm index for wildcard queries\n",
        "*   Incorporate spell correction\n",
        "*   Index all of the lyrics at https://www.cs.cornell.edu/~arb/data/genius-expertise/ and demonstrate an efficient implementation\n",
        "*   Try a ranking approach\n",
        "*   ...\n",
        "\n",
        "We will grade this last part according to effort, creativity, and impact.\n",
        "\n"
      ]
    },
    {
      "cell_type": "markdown",
      "metadata": {},
      "source": [
        "### Indexing\n",
        "The dictionary holds all the tokens and corresponding documents with its position. \n",
        "\n",
        "\n",
        "The data structure looks like:\n",
        "dict[token][documentId] -> list \n",
        "### Algorithm\n",
        "The extension supports two types of queries:\n",
        "1. Boolean Queries: If the query consists of terms like AND, OR and NOT, then it calls previously built system\n",
        "2. Phrase Queries: For the phrase queries, the position of the terms are considered for ranking the results. It works as belows:\n",
        "    1. Proximity score: The algorithm searchs for the tokens within the proximity radius. Here value of radius is 5. If the the tokens are consecutive, then the proximity score will be highest. Example: Let the query be \"touch me\". In this case, a song which has lyrics \"touch me\", gets a score of 1. Let's say another song has lyrics \"touch, boy, can set me\" gets a score of 0.2, \n",
        "    2. Match frequency: The algorithms also calculates, the frequency of such query matches. This value is normalized against the max frequency. Normalization helps to give maintian the scales of both proximity and frequency.\n",
        "    3. Final Score: A weighted average of both the scores are considered to get the final scores. In my implementation, values of 0.5 is used. Hence, Final score (q, d) = (0.5) * proximity score + (0.5) * match frequency"
      ]
    },
    {
      "cell_type": "markdown",
      "metadata": {},
      "source": [
        "##### Note\n",
        "To show the ranking scores, the results doesn't contain documents. They have only ranks and document id"
      ]
    },
    {
      "cell_type": "code",
      "execution_count": 14,
      "metadata": {},
      "outputs": [],
      "source": [
        "# The extension will support positional and boolean queries\n",
        "def updateList(positionalList, token, proximity = 5):\n",
        "    if len(positionalList) == 0:\n",
        "        return globalDict[token].copy(), {}\n",
        "\n",
        "    count = defaultdict(int)\n",
        "    totalProxoimityScore = defaultdict(int)\n",
        "    deleteKeys = []\n",
        "\n",
        "    for docId in positionalList:\n",
        "        if docId in globalDict[token]:\n",
        "            newPositions = []\n",
        "            i = 0\n",
        "            j = 0\n",
        "            oldPos = positionalList[docId]\n",
        "            gloPos = globalDict[token][docId]\n",
        "            while i < len(oldPos) and j < len(gloPos):\n",
        "                if oldPos[i] > gloPos[j]:\n",
        "                    j += 1\n",
        "                elif oldPos[i] + 5 >= gloPos[j]:\n",
        "                    newPositions.append(gloPos[j])\n",
        "                    count[docId] += 1\n",
        "                    totalProxoimityScore[docId] += proximity - (gloPos[j] - oldPos[i]) + 1\n",
        "                    i += 1\n",
        "                    j += 1\n",
        "                else:\n",
        "                    i += 1\n",
        "            if len(newPositions) == 0:\n",
        "                deleteKeys.append(docId)\n",
        "            else:\n",
        "                positionalList[docId] = newPositions\n",
        "        else:\n",
        "            deleteKeys.append(docId)\n",
        "    \n",
        "    for key in deleteKeys:\n",
        "        del positionalList[key]\n",
        "    \n",
        "    return positionalList, totalProxoimityScore\n",
        "\n",
        "def processPhraseQueries(query):\n",
        "    proximityScore = defaultdict(int)\n",
        "    tokens = tokenize(query).split()\n",
        "    positionalList = defaultdict(list)\n",
        "    for token in tokens:\n",
        "        positionalList, proximityScore = updateList(positionalList, token)\n",
        "        if len(positionalList) == 0:\n",
        "            return {}\n",
        "    scoringList = defaultdict(float)\n",
        "    maxLen = 0\n",
        "    for key in positionalList:\n",
        "        maxLen = max(maxLen, len(positionalList[key]))\n",
        "        scoringList[key] = len(positionalList[key])\n",
        "\n",
        "    if len(proximityScore) != 0:\n",
        "        for key in proximityScore:\n",
        "            scoringList[key] = (0.5)*((proximityScore[key] / len(positionalList[key])) / 5 ) + (0.5)*(scoringList[key] / maxLen)\n",
        "    else:\n",
        "        for key in positionalList:\n",
        "            scoringList[key] = (scoringList[key] / maxLen)\n",
        "\n",
        "    return {k:v for k,v in sorted(scoringList.items(), key=lambda item:-item[1])}\n",
        "    # return positionalList\n",
        "\n",
        "def coolExtension(query):\n",
        "    query = query.strip()\n",
        "    if \"NOT \" in query or \" AND \" in query or \" OR \" in query:\n",
        "        return processQuery(query) # calling the boolean processor\n",
        "    else:\n",
        "        start = timeit.default_timer()\n",
        "        results = processPhraseQueries(query)\n",
        "        results = {k: results[k] for k in list(results)[:15]}\n",
        "\n",
        "        stop = timeit.default_timer()\n",
        "\n",
        "        print(f'Total Time required to process query: {stop-start:.4f}')\n",
        "        return results"
      ]
    },
    {
      "cell_type": "code",
      "execution_count": 15,
      "metadata": {},
      "outputs": [
        {
          "name": "stdout",
          "output_type": "stream",
          "text": [
            "Total Time required to process query: 0.0001\n"
          ]
        },
        {
          "data": {
            "text/plain": [
              "{'Major-lazer-powerful-lyrics': 1.0,\n",
              " 'David-bowie-john-im-only-dancing-lyrics': 0.65,\n",
              " 'Maroon-5-doin-dirt-lyrics': 0.65,\n",
              " 'Emeli-sande-crazy-in-love-lyrics': 0.6499999999999999,\n",
              " 'Beyonce-standing-on-the-sun-lyrics': 0.6,\n",
              " 'Britney-spears-boys-lyrics': 0.55,\n",
              " 'Ariana-grande-moonlight-lyrics': 0.25,\n",
              " 'Daft-punk-touch-lyrics': 0.25,\n",
              " 'Katy-b-who-am-i-lyrics': 0.25,\n",
              " 'Lana-del-rey-west-coast-radio-mix-lyrics': 0.15000000000000002,\n",
              " 'Sam-smith-latch-acoustic-lyrics': 0.15000000000000002}"
            ]
          },
          "execution_count": 15,
          "metadata": {},
          "output_type": "execute_result"
        }
      ],
      "source": [
        "# If you see the songs, Major-lazer-powerful-lyrics has the highest frequency and proximity, hence ranked first\n",
        "# Although David-bowie-john-im-only-dancing-lyrics has high proximity, it has less frequency, hence it is scored second\n",
        "coolExtension(\"touch me\")"
      ]
    },
    {
      "cell_type": "code",
      "execution_count": 16,
      "metadata": {},
      "outputs": [
        {
          "name": "stdout",
          "output_type": "stream",
          "text": [
            "Total Time required to process query: 0.0002\n"
          ]
        },
        {
          "data": {
            "text/plain": [
              "{'Majid-jordan-my-love-lyrics': 1.0,\n",
              " 'Nile-rodgers-and-chic-i-want-your-love-lady-gaga-version-lyrics': 0.8955223880597015,\n",
              " 'Justin-timberlake-sexy-ladies-let-me-talk-to-you-prelude-lyrics': 0.8208955223880597,\n",
              " 'Jack-u-take-u-there-lyrics': 0.6417910447761194,\n",
              " 'David-bowie-modern-love-lyrics': 0.5970149253731343,\n",
              " 'Michael-jackson-one-more-chance-lyrics': 0.5671641791044776,\n",
              " 'Major-lazer-all-my-love-remix-lyrics': 0.44776119402985076,\n",
              " 'Justin-bieber-one-time-lyrics': 0.43283582089552236,\n",
              " 'Panic-at-the-disco-its-true-love-lyrics': 0.43283582089552236,\n",
              " 'Hozier-better-love-lyrics': 0.417910447761194,\n",
              " 'Akon-mama-africa-lyrics': 0.3880597014925373,\n",
              " 'Faith-evans-you-used-to-love-me-lyrics': 0.3880597014925373,\n",
              " 'The-beatles-love-me-do-lyrics': 0.3880597014925373,\n",
              " 'Gorillaz-sound-check-gravity-lyrics': 0.3880597014925373,\n",
              " 'Kanye-west-love-lockdown-lyrics': 0.3582089552238806}"
            ]
          },
          "execution_count": 16,
          "metadata": {},
          "output_type": "execute_result"
        }
      ],
      "source": [
        "# When we are searching for one word queries, the ranking is completely based on frequency\n",
        "coolExtension(\"love\")"
      ]
    },
    {
      "cell_type": "code",
      "execution_count": 17,
      "metadata": {},
      "outputs": [
        {
          "name": "stdout",
          "output_type": "stream",
          "text": [
            "Total Time required to process query: 0.0000\n"
          ]
        },
        {
          "data": {
            "text/plain": [
              "{'Coldplay-dont-let-it-break-your-heart-lyrics': 0.9,\n",
              " 'Demi-lovato-every-time-you-lie-lyrics': 0.7,\n",
              " 'The-weeknd-the-knowing-lyrics': 0.6000000000000001,\n",
              " 'Grimes-artangels-lyrics': 0.6000000000000001,\n",
              " 'Marina-power-and-control-lyrics': 0.5,\n",
              " 'Britney-spears-it-should-be-easy-lyrics': 0.5}"
            ]
          },
          "execution_count": 17,
          "metadata": {},
          "output_type": "execute_result"
        }
      ],
      "source": [
        "# The system will also check for which are in close proximity of 5 words\n",
        "coolExtension(\"break heart\")"
      ]
    },
    {
      "cell_type": "markdown",
      "metadata": {
        "id": "FihN3qniN-Jy"
      },
      "source": [
        "# Collaboration Declarations"
      ]
    },
    {
      "cell_type": "markdown",
      "metadata": {
        "id": "3EKp_Fe-N-Jy"
      },
      "source": [
        "*You should fill out your collaboration declarations here.*\n",
        "\n"
      ]
    },
    {
      "cell_type": "markdown",
      "metadata": {},
      "source": [
        "1. Stack Overflow for regex "
      ]
    },
    {
      "cell_type": "markdown",
      "metadata": {},
      "source": []
    }
  ],
  "metadata": {
    "colab": {
      "provenance": []
    },
    "kernelspec": {
      "display_name": "base",
      "language": "python",
      "name": "python3"
    },
    "language_info": {
      "codemirror_mode": {
        "name": "ipython",
        "version": 3
      },
      "file_extension": ".py",
      "mimetype": "text/x-python",
      "name": "python",
      "nbconvert_exporter": "python",
      "pygments_lexer": "ipython3",
      "version": "3.11.4"
    }
  },
  "nbformat": 4,
  "nbformat_minor": 0
}
